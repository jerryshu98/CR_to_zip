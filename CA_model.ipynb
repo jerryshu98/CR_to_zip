{
 "cells": [
  {
   "cell_type": "code",
   "execution_count": 1,
   "metadata": {},
   "outputs": [],
   "source": [
    "import pickle\n",
    "from pathlib import Path\n",
    "import pydicom\n",
    "import matplotlib.pyplot as plt\n",
    "import pandas as pd\n",
    "import pickle\n",
    "import cv2\n",
    "import numpy as np\n",
    "from collections import Counter\n",
    "import numpy as np\n",
    "import tensorflow as tf\n",
    "from tensorflow.keras.utils import to_categorical\n",
    "from sklearn.model_selection import train_test_split"
   ]
  },
  {
   "cell_type": "code",
   "execution_count": 2,
   "metadata": {},
   "outputs": [],
   "source": [
    "def pick_first_three(loaded_list):\n",
    "    new_list = []\n",
    "    for item in loaded_list:\n",
    "        try:\n",
    "            number = int(item[:3])\n",
    "            new_list.append(number)\n",
    "        except:\n",
    "            new_list.append(-1)\n",
    "    return new_list"
   ]
  },
  {
   "cell_type": "code",
   "execution_count": 101,
   "metadata": {},
   "outputs": [],
   "source": [
    "with open('zip_lists_9968.pkl', 'rb') as f:\n",
    "    zip_load_list = pickle.load(f)\n",
    "\n",
    "with open('image_lists_9968.pkl', 'rb') as f:\n",
    "    image_load_list = pickle.load(f)"
   ]
  },
  {
   "cell_type": "code",
   "execution_count": 102,
   "metadata": {},
   "outputs": [],
   "source": [
    "zip_filt_list = pick_first_three(zip_load_list)"
   ]
  },
  {
   "cell_type": "code",
   "execution_count": 103,
   "metadata": {},
   "outputs": [],
   "source": [
    "a = Counter(zip_filt_list) #482 \n",
    "#a\n",
    "\n",
    "#9: 941, 945 940 \n",
    "#4: 482, 481 480 483"
   ]
  },
  {
   "cell_type": "code",
   "execution_count": 107,
   "metadata": {},
   "outputs": [],
   "source": [
    "f_zip_list = []\n",
    "f_images_list = []\n",
    "for i in range(len(zip_filt_list)):\n",
    "    #print(zip_filt_list[i])\n",
    "    if zip_filt_list[i] == 941:\n",
    "        f_zip_list.append(9)\n",
    "        f_images_list.append(image_load_list[i])\n",
    "    if zip_filt_list[i] == 482:\n",
    "        f_zip_list.append(4)\n",
    "        f_images_list.append(image_load_list[i])"
   ]
  },
  {
   "cell_type": "code",
   "execution_count": 122,
   "metadata": {},
   "outputs": [],
   "source": [
    "test_zip_list = []\n",
    "test_images_list = []\n",
    "for i in range(len(zip_filt_list)):\n",
    "    #print(zip_filt_list[i])\n",
    "    if zip_filt_list[i] == 945 or zip_filt_list[i] == 940:\n",
    "        test_zip_list.append(9)\n",
    "        test_images_list.append(image_load_list[i])\n",
    "    if zip_filt_list[i] == 481 or zip_filt_list[i] == 480 or zip_filt_list[i] == 483:\n",
    "        test_zip_list.append(4)\n",
    "        test_images_list.append(image_load_list[i])"
   ]
  },
  {
   "cell_type": "code",
   "execution_count": null,
   "metadata": {},
   "outputs": [],
   "source": [
    "unique_values = sorted(set(test_zip_list))  # 獲得唯一值並排序\n",
    "mapping = {value: index for index, value in enumerate(unique_values)}  # 創建映射字典\n",
    "\n",
    "# 使用映射字典來轉換原始列表\n",
    "test_zip_list = [mapping[value] for value in test_zip_list]"
   ]
  },
  {
   "cell_type": "markdown",
   "metadata": {},
   "source": [
    "# CA filter"
   ]
  },
  {
   "cell_type": "code",
   "execution_count": 106,
   "metadata": {},
   "outputs": [],
   "source": [
    "f_zip_list = []\n",
    "f_images_list = []\n",
    "\n",
    "for i in range(len(zip_filt_list)):\n",
    "    if(str(zip_filt_list[i])[0] == '4') and a[zip_filt_list[i]] < 800 and a[zip_filt_list[i]] > 90:\n",
    "        f_zip_list.append(zip_filt_list[i])\n",
    "        f_images_list.append(image_load_list[i])"
   ]
  },
  {
   "cell_type": "code",
   "execution_count": 108,
   "metadata": {},
   "outputs": [],
   "source": [
    "unique_values = sorted(set(f_zip_list))  # 獲得唯一值並排序\n",
    "mapping = {value: index for index, value in enumerate(unique_values)}  # 創建映射字典\n",
    "\n",
    "# 使用映射字典來轉換原始列表\n",
    "f_zip_list = [mapping[value] for value in f_zip_list]"
   ]
  },
  {
   "cell_type": "code",
   "execution_count": 116,
   "metadata": {},
   "outputs": [],
   "source": [
    "X = np.array(f_images_list) \n",
    "X = X.reshape((-1, 256, 256, 1)) \n",
    "y = to_categorical(f_zip_list, num_classes=len(set(f_zip_list)))  \n",
    "\n",
    "X_train, X_temp, y_train, y_temp = train_test_split(X, y, test_size=0.3, random_state=42)\n",
    "X_val, X_test, y_val, y_test = train_test_split(X_temp, y_temp, test_size=0.5, random_state=42)"
   ]
  },
  {
   "cell_type": "code",
   "execution_count": 109,
   "metadata": {},
   "outputs": [],
   "source": [
    "X_train, X_val, y_train, y_val = train_test_split(X, y, test_size=0.2, random_state=42)"
   ]
  },
  {
   "cell_type": "code",
   "execution_count": 117,
   "metadata": {},
   "outputs": [],
   "source": [
    "model = tf.keras.models.Sequential([\n",
    "    tf.keras.layers.Conv2D(32, (3, 3), activation='relu', input_shape=(256, 256, 1)),\n",
    "    tf.keras.layers.MaxPooling2D((2, 2)),\n",
    "    tf.keras.layers.Conv2D(64, (3, 3), activation='relu'),\n",
    "    tf.keras.layers.MaxPooling2D((2, 2)),\n",
    "    tf.keras.layers.Conv2D(64, (3, 3), activation='relu'),\n",
    "    tf.keras.layers.MaxPooling2D((2, 2)),\n",
    "    tf.keras.layers.Flatten(),\n",
    "    tf.keras.layers.Dense(64, activation='relu'),\n",
    "    tf.keras.layers.Dense(len(set(f_zip_list)), activation='softmax')\n",
    "])\n",
    "\n",
    "model.compile(optimizer='adam', loss='categorical_crossentropy', metrics=['accuracy'])"
   ]
  },
  {
   "cell_type": "code",
   "execution_count": 118,
   "metadata": {},
   "outputs": [],
   "source": [
    "import tensorflow as tf\n",
    "from tensorflow.keras.applications import ResNet50\n",
    "from tensorflow.keras import layers, models\n",
    "\n",
    "def build_model(input_shape=(256, 256, 1), num_classes=len(set(f_zip_list))):\n",
    "    # 加載ResNet50模型，不包括頂層，預設輸入尺寸為(224, 224, 3)\n",
    "    base_model = ResNet50(weights='imagenet', include_top=False, input_shape=(224, 224, 3))\n",
    "\n",
    "    # 凍結基模型的權重\n",
    "    base_model.trainable = False\n",
    "\n",
    "    # 建立新模型\n",
    "    model = models.Sequential([\n",
    "        # 因為ResNet50預設輸入尺寸為(224, 224, 3)，所以需要調整輸入圖像尺寸和通道\n",
    "        layers.experimental.preprocessing.Resizing(224, 224),\n",
    "        layers.Conv2D(3, (3, 3), padding='same'),  # 將圖像從1通道轉為3通道\n",
    "        base_model,         \n",
    "        layers.GlobalAveragePooling2D(),\n",
    "        layers.Dense(256, activation='relu'),\n",
    "        layers.Dropout(0.5),\n",
    "        layers.Dense(num_classes, activation='softmax')\n",
    "    ])\n",
    "\n",
    "    return model\n",
    "\n",
    "model_ResNet50 = build_model()\n",
    "model_ResNet50.compile(optimizer='adam', loss='categorical_crossentropy', metrics=['accuracy'])"
   ]
  },
  {
   "cell_type": "code",
   "execution_count": 119,
   "metadata": {},
   "outputs": [
    {
     "name": "stdout",
     "output_type": "stream",
     "text": [
      "2 2217\n"
     ]
    }
   ],
   "source": [
    "print(len(set(f_zip_list)),len(f_zip_list))"
   ]
  },
  {
   "cell_type": "code",
   "execution_count": 123,
   "metadata": {},
   "outputs": [
    {
     "name": "stdout",
     "output_type": "stream",
     "text": [
      "22/49 [============>.................] - ETA: 1:02 - loss: 0.3779 - accuracy: 0.8409"
     ]
    }
   ],
   "source": [
    "model_ResNet50.fit(X_train, y_train, epochs=1, validation_data=(X_val, y_val))\n",
    "\n",
    "test_loss, test_acc = model_ResNet50.evaluate(X_test, y_test)\n",
    "print(f\"Test accuracy: {test_acc:.4f}\")"
   ]
  },
  {
   "cell_type": "code",
   "execution_count": null,
   "metadata": {},
   "outputs": [],
   "source": [
    "model.fit(X_train, y_train, epochs=5, validation_data=(X_val, y_val))\n",
    "\n",
    "test_loss, test_acc = model.evaluate(X_test, y_test)\n",
    "print(f\"Test accuracy: {test_acc:.4f}\")"
   ]
  }
 ],
 "metadata": {
  "kernelspec": {
   "display_name": "MIT_test",
   "language": "python",
   "name": "python3"
  },
  "language_info": {
   "codemirror_mode": {
    "name": "ipython",
    "version": 3
   },
   "file_extension": ".py",
   "mimetype": "text/x-python",
   "name": "python",
   "nbconvert_exporter": "python",
   "pygments_lexer": "ipython3",
   "version": "3.9.18"
  }
 },
 "nbformat": 4,
 "nbformat_minor": 2
}
